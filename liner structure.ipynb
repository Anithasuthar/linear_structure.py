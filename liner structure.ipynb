{
 "cells": [
  {
   "cell_type": "code",
   "execution_count": 5,
   "id": "f3fa2e45",
   "metadata": {},
   "outputs": [
    {
     "name": "stdout",
     "output_type": "stream",
     "text": [
      "[(4, 3), (5, 2)]\n"
     ]
    }
   ],
   "source": [
    "# Q1. Write a program to find all pairs of an integer array whose sum is equal to a given number?\n",
    "\n",
    "def find_pairs(arr, target):\n",
    "    seen = set()\n",
    "    result = []\n",
    "    \n",
    "    for num in arr:\n",
    "        complement = target - num\n",
    "        \n",
    "        if complement in seen:\n",
    "            result.append((num, complement))\n",
    "        \n",
    "        seen.add(num)\n",
    "    \n",
    "    return result\n",
    "\n",
    "arr = [1, 2, 3, 4, 5]\n",
    "target = 7\n",
    "pairs = find_pairs(arr, target)\n",
    "print(pairs)  # [(2, 5), (3, 4)]\n",
    "\n"
   ]
  },
  {
   "cell_type": "code",
   "execution_count": 6,
   "id": "4aa850ab",
   "metadata": {},
   "outputs": [
    {
     "name": "stdout",
     "output_type": "stream",
     "text": [
      "[5, 4, 3, 2, 1]\n"
     ]
    }
   ],
   "source": [
    "# Q2. Write a program to reverse an array in place? \n",
    "# In place means you cannot create a new array. You have to update the original array.\n",
    "\n",
    "def reverse_array_in_place(arr):\n",
    "    left = 0\n",
    "    right = len(arr) - 1\n",
    "    \n",
    "    while left < right:\n",
    "        arr[left], arr[right] = arr[right], arr[left]\n",
    "        left += 1\n",
    "        right -= 1\n",
    "arr = [1, 2, 3, 4, 5]\n",
    "reverse_array_in_place(arr)\n",
    "print(arr)  \n"
   ]
  },
  {
   "cell_type": "code",
   "execution_count": 8,
   "id": "85498a96",
   "metadata": {},
   "outputs": [
    {
     "name": "stdout",
     "output_type": "stream",
     "text": [
      "worldhello  is a rotation of hello world\n"
     ]
    }
   ],
   "source": [
    "# Q3. Write a program to check if two strings are a rotation of each other?\n",
    "\n",
    "def is_rotation(s1, s2):\n",
    "    if len(s1) != len(s2):\n",
    "        return False\n",
    "    \n",
    "    s1s1 = s1 + s1\n",
    "    \n",
    "    if s2 in s1s1:\n",
    "        return True\n",
    "    else:\n",
    "        return False\n",
    "\n",
    "s1 = \"hello world\"\n",
    "s2 = \"worldhello \"\n",
    "\n",
    "if is_rotation(s1, s2):\n",
    "    print(f\"{s2} is a rotation of {s1}\")\n",
    "else:\n",
    "    print(f\"{s2} is not a rotation of {s1}\")\n"
   ]
  },
  {
   "cell_type": "code",
   "execution_count": 9,
   "id": "09b33167",
   "metadata": {},
   "outputs": [
    {
     "name": "stdout",
     "output_type": "stream",
     "text": [
      "The first non-repeated character in hello world is h\n"
     ]
    }
   ],
   "source": [
    "# Q4. Write a program to print the first non-repeated character from a string?\n",
    "\n",
    "def first_non_repeated_char(s):\n",
    "    char_count = {}\n",
    "    \n",
    "    for char in s:\n",
    "        if char in char_count:\n",
    "            char_count[char] += 1\n",
    "        else:\n",
    "            char_count[char] = 1\n",
    "    \n",
    "    for char in s:\n",
    "        if char_count[char] == 1:\n",
    "            return char\n",
    "    \n",
    "    return None\n",
    "s = \"hello world\"\n",
    "first_non_repeated = first_non_repeated_char(s)\n",
    "\n",
    "if first_non_repeated:\n",
    "    print(f\"The first non-repeated character in {s} is {first_non_repeated}\")\n",
    "else:\n",
    "    print(f\"There are no non-repeated characters in {s}\")\n"
   ]
  },
  {
   "cell_type": "code",
   "execution_count": 10,
   "id": "40ccea68",
   "metadata": {},
   "outputs": [
    {
     "name": "stdout",
     "output_type": "stream",
     "text": [
      "Move disk 1 from rod A to rod C\n",
      "Move disk 2 from rod A to rod B\n",
      "Move disk 1 from rod C to rod B\n",
      "Move disk 3 from rod A to rod C\n",
      "Move disk 1 from rod B to rod A\n",
      "Move disk 2 from rod B to rod C\n",
      "Move disk 1 from rod A to rod C\n"
     ]
    }
   ],
   "source": [
    "# Q5. Read about the Tower of Hanoi algorithm. Write a program to implement it.\n",
    "\n",
    "def tower_of_hanoi(n, source, auxiliary, destination):\n",
    "    if n == 1:\n",
    "        print(f\"Move disk 1 from rod {source} to rod {destination}\")\n",
    "        return\n",
    "    \n",
    "    tower_of_hanoi(n-1, source, destination, auxiliary)\n",
    "    print(f\"Move disk {n} from rod {source} to rod {destination}\")\n",
    "    tower_of_hanoi(n-1, auxiliary, source, destination)\n",
    "tower_of_hanoi(3, 'A', 'B', 'C')\n"
   ]
  },
  {
   "cell_type": "code",
   "execution_count": 11,
   "id": "ab1aabb5",
   "metadata": {},
   "outputs": [
    {
     "name": "stdout",
     "output_type": "stream",
     "text": [
      "The prefix expression of 23+4* is *+234\n"
     ]
    }
   ],
   "source": [
    "# Q6. Read about infix, prefix, and postfix expressions. Write a program to convert postfix to prefix expression.\n",
    "\n",
    "def postfix_to_prefix(postfix):\n",
    "    stack = []\n",
    "    \n",
    "    for char in postfix:\n",
    "        if char.isdigit():\n",
    "            stack.append(char)\n",
    "        else:\n",
    "            operand1 = stack.pop()\n",
    "            operand2 = stack.pop()\n",
    "            stack.append(char + operand2 + operand1)\n",
    "    \n",
    "    return stack.pop()\n",
    "postfix_expression = \"23+4*\"\n",
    "prefix_expression = postfix_to_prefix(postfix_expression)\n",
    "print(f\"The prefix expression of {postfix_expression} is {prefix_expression}\")\n"
   ]
  },
  {
   "cell_type": "code",
   "execution_count": 16,
   "id": "0d860414",
   "metadata": {},
   "outputs": [
    {
     "name": "stdout",
     "output_type": "stream",
     "text": [
      "The infix expression of +23*4 is Invalid prefix expression\n"
     ]
    }
   ],
   "source": [
    "# Q7. Write a program to convert prefix expression to infix expression\n",
    "def prefix_to_infix(prefix):\n",
    "    stack = []\n",
    "    \n",
    "    for char in reversed(prefix):\n",
    "        if char.isdigit():\n",
    "            stack.append(char)\n",
    "        else:\n",
    "            if len(stack) < 2:\n",
    "                return \"Invalid prefix expression\"\n",
    "            operand1 = stack.pop()\n",
    "            operand2 = stack.pop()\n",
    "            infix = f\"({operand1}{char}{operand2})\"\n",
    "            stack.append(infix)\n",
    "    \n",
    "    if len(stack) != 1:\n",
    "        return \"Invalid prefix expression\"\n",
    "    \n",
    "    return stack.pop()\n",
    "prefix_expression = \"+23*4\"\n",
    "infix_expression = prefix_to_infix(prefix_expression)\n",
    "print(f\"The infix expression of {prefix_expression} is {infix_expression}\")\n",
    "\n",
    "\n"
   ]
  },
  {
   "cell_type": "code",
   "execution_count": 17,
   "id": "be2d68c0",
   "metadata": {},
   "outputs": [
    {
     "name": "stdout",
     "output_type": "stream",
     "text": [
      "All brackets are closed.\n"
     ]
    }
   ],
   "source": [
    "# Q8. Write a program to check if all the brackets are closed in a given code snippet.\n",
    "\n",
    "def check_brackets(code):\n",
    "    stack = []\n",
    "    \n",
    "    for char in code:\n",
    "        if char in [\"(\", \"[\", \"{\"]:\n",
    "            stack.append(char)\n",
    "        elif char in [\")\", \"]\", \"}\"]:\n",
    "            if not stack:\n",
    "                return False\n",
    "            opening_bracket = stack.pop()\n",
    "            if (opening_bracket == \"(\" and char != \")\") or \\\n",
    "               (opening_bracket == \"[\" and char != \"]\") or \\\n",
    "               (opening_bracket == \"{\" and char != \"}\"):\n",
    "                return False\n",
    "    \n",
    "    return not stack\n",
    "code_snippet = \"if (x > 5) { y = x + 2; }\"\n",
    "brackets_closed = check_brackets(code_snippet)\n",
    "if brackets_closed:\n",
    "    print(\"All brackets are closed.\")\n",
    "else:\n",
    "    print(\"There is a syntax error.\")\n"
   ]
  },
  {
   "cell_type": "code",
   "execution_count": 23,
   "id": "b98bae7f",
   "metadata": {},
   "outputs": [
    {
     "name": "stdout",
     "output_type": "stream",
     "text": [
      "[5, 4, 3, 2, 1]\n"
     ]
    }
   ],
   "source": [
    "# Q9. Write a program to reverse a stack.\n",
    "\n",
    "def reverse_stack(stack):\n",
    "    if not stack:\n",
    "        return stack\n",
    "    else:\n",
    "        temp = stack.pop()\n",
    "        stack = reverse_stack(stack)\n",
    "        stack = insert_at_bottom(stack, temp)\n",
    "        return stack\n",
    "\n",
    "def insert_at_bottom(stack, item):\n",
    "    if not stack:\n",
    "        stack.append(item)\n",
    "    else:\n",
    "        temp = stack.pop()\n",
    "        stack = insert_at_bottom(stack, item)\n",
    "        stack.append(temp)\n",
    "    return stack\n",
    "\n",
    "stack = [1, 2, 3, 4, 5]\n",
    "reversed_stack = reverse_stack(stack)\n",
    "print(reversed_stack)\n",
    "\n"
   ]
  },
  {
   "cell_type": "code",
   "execution_count": 24,
   "id": "c965dd72",
   "metadata": {},
   "outputs": [
    {
     "name": "stdout",
     "output_type": "stream",
     "text": [
      "1\n",
      "3\n"
     ]
    }
   ],
   "source": [
    "# Q10. Write a program to find the smallest number using a stack.\n",
    "\n",
    "class MinStack:\n",
    "    def __init__(self):\n",
    "        self.stack = []\n",
    "        self.min_stack = []\n",
    "\n",
    "    def push(self, value):\n",
    "        self.stack.append(value)\n",
    "        if not self.min_stack or value <= self.min_stack[-1]:\n",
    "            self.min_stack.append(value)\n",
    "\n",
    "    def pop(self):\n",
    "        if not self.stack:\n",
    "            return None\n",
    "        value = self.stack.pop()\n",
    "        if value == self.min_stack[-1]:\n",
    "            self.min_stack.pop()\n",
    "        return value\n",
    "\n",
    "    def get_min(self):\n",
    "        if not self.min_stack:\n",
    "            return None\n",
    "        return self.min_stack[-1]\n",
    "stack = MinStack()\n",
    "stack.push(3)\n",
    "stack.push(5)\n",
    "stack.push(2)\n",
    "stack.push(1)\n",
    "print(stack.get_min())  \n",
    "stack.pop()\n",
    "stack.pop()\n",
    "print(stack.get_min())  \n",
    "    \n"
   ]
  },
  {
   "cell_type": "code",
   "execution_count": null,
   "id": "a46b118b",
   "metadata": {},
   "outputs": [],
   "source": []
  }
 ],
 "metadata": {
  "kernelspec": {
   "display_name": "Python 3 (ipykernel)",
   "language": "python",
   "name": "python3"
  },
  "language_info": {
   "codemirror_mode": {
    "name": "ipython",
    "version": 3
   },
   "file_extension": ".py",
   "mimetype": "text/x-python",
   "name": "python",
   "nbconvert_exporter": "python",
   "pygments_lexer": "ipython3",
   "version": "3.9.12"
  }
 },
 "nbformat": 4,
 "nbformat_minor": 5
}
